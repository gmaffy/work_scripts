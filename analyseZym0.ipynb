{
 "cells": [
  {
   "cell_type": "code",
   "execution_count": 56,
   "metadata": {},
   "outputs": [],
   "source": [
    "import openpyxl\n",
    "import matplotlib.pyplot as plt\n",
    "def zym_region(exelFile):\n",
    "    num_of_snps = 0\n",
    "    sawa_marker_count = 0\n",
    "    zym0_marker_count = 0\n",
    "    all_snps = []\n",
    "    sawa_markers = []\n",
    "    zym0_markers = []\n",
    "    with open(exelFile) as f:\n",
    "        for line in f:\n",
    "            line = line.rstrip().split('\\t')\n",
    "            if line[0] == 'CHROM':\n",
    "                sawas_heading = line[12:23]\n",
    "                zym0s_heading = line[12:25]\n",
    "                susc_heading = line[29:34]\n",
    "                #print('Sawas', sawas_heading, '\\n')\n",
    "                #print(\"Zym0\", zym0s_heading, '\\n')\n",
    "                #print(\"Susceptibles\", susc_heading, '\\n')\n",
    "                \n",
    "            elif line[0] == 'Cp4.1LG16':\n",
    "                sawas = line[12:23]\n",
    "                zym0s = line[12:25]\n",
    "                susc = line[29:34]\n",
    "               \n",
    "                num_of_snps += 1\n",
    "                all_snps.append(int(line[1]))\n",
    "                if len(set(sawas)) == 1 and len(set(susc)) == 1 and line[13] != line[30]:\n",
    "                    sawa_marker_count += 1\n",
    "                    sawa_markers.append(int(line[1]))\n",
    "                if len(set(zym0s)) == 1 and len(set(susc)) == 1 and line[13] != line[30]:\n",
    "                    zym0_marker_count += 1\n",
    "                    zym0_markers.append(int(line[1]))\n",
    "                    \n",
    "                    \n",
    "    print('There are', num_of_snps, \"snps in total from 7785000 to 846000\", '\\n' )\n",
    "    print(\"There are\", sawa_marker_count, \"sawazaki makers that start from\", min(sawa_markers), 'to', max(sawa_markers), '\\n')\n",
    "    print(\"There are\", zym0_marker_count, \"zym0 makers that start from\", min(zym0_markers), 'to', max(zym0_markers), '\\n')\n",
    "    #return num_of_snps, sawa_marker, zym0_marker\n",
    "    plt.plot(zym0_markers,[3 for i in zym0_markers], 'bo')\n",
    "    plt.plot(sawa_markers,[2 for i in sawa_markers], 'go')\n",
    "    plt.plot(all_snps,[1 for i in all_snps], 'ro')\n",
    "    \n",
    "        \n",
    "    \n",
    "    "
   ]
  },
  {
   "cell_type": "code",
   "execution_count": 57,
   "metadata": {},
   "outputs": [
    {
     "name": "stdout",
     "output_type": "stream",
     "text": [
      "There are 23565 snps in total from 7785000 to 846000 \n",
      "\n",
      "There are 8089 sawazaki makers that start from 7840590 to 8459887 \n",
      "\n",
      "There are 208 zym0 makers that start from 7897551 to 8335547 \n",
      "\n"
     ]
    },
    {
     "data": {
      "image/png": "[encoded data removed]",
      "text/plain": [
       "<Figure size 432x288 with 1 Axes>"
      ]
     },
     "metadata": {
      "needs_background": "light"
     },
     "output_type": "display_data"
    }
   ],
   "source": [
    "zym_region(\"Chr16_ZYMV0Region.GATKANNPRG.txt\")"
   ]
  },
  {
   "cell_type": "code",
   "execution_count": null,
   "metadata": {},
   "outputs": [],
   "source": []
  }
 ],
 "metadata": {
  "kernelspec": {
   "display_name": "Python 3",
   "language": "python",
   "name": "python3"
  },
  "language_info": {
   "codemirror_mode": {
    "name": "ipython",
    "version": 3
   },
   "file_extension": ".py",
   "mimetype": "text/x-python",
   "name": "python",
   "nbconvert_exporter": "python",
   "pygments_lexer": "ipython3",
   "version": "3.7.3"
  }
 },
 "nbformat": 4,
 "nbformat_minor": 2
}
